{
 "cells": [
  {
   "cell_type": "code",
   "execution_count": 2,
   "id": "63810f72",
   "metadata": {},
   "outputs": [],
   "source": [
    "import numpy as np\n",
    "import matplotlib.pyplot as plt\n",
    "np.random.seed(42)\n",
    "\n",
    "students = np.array([1,0,1,1,1,1,0,0,0,0,1,1,1,1,1,1,1,1,1,1,0])"
   ]
  },
  {
   "cell_type": "markdown",
   "id": "45f81bda",
   "metadata": {},
   "source": [
    "`1.` Find the proportion of students who drink coffee in the above array. Store this value in a variable p."
   ]
  },
  {
   "cell_type": "code",
   "execution_count": 4,
   "id": "9cc5eadd",
   "metadata": {},
   "outputs": [
    {
     "data": {
      "text/plain": [
       "0.7142857142857143"
      ]
     },
     "execution_count": 4,
     "metadata": {},
     "output_type": "execute_result"
    }
   ],
   "source": [
    "p=students.mean()\n",
    "p"
   ]
  },
  {
   "cell_type": "markdown",
   "id": "c23d2bab",
   "metadata": {},
   "source": [
    "`2.` Use numpy's random.choice to simulate 5 draws from the students array. What is proportion of your sample drink coffee?"
   ]
  },
  {
   "cell_type": "code",
   "execution_count": 6,
   "id": "9ee1fb8a",
   "metadata": {},
   "outputs": [
    {
     "data": {
      "text/plain": [
       "0.6"
      ]
     },
     "execution_count": 6,
     "metadata": {},
     "output_type": "execute_result"
    }
   ],
   "source": [
    "sample1=np.random.choice(students,size=5,replace=True)\n",
    "sample1.mean()"
   ]
  },
  {
   "cell_type": "markdown",
   "id": "c8efaf93",
   "metadata": {},
   "source": [
    "`3.` Repeat the above to obtain 10,000 additional proportions, where each sample was of size 5. Store these in a variable called sample_props"
   ]
  },
  {
   "cell_type": "code",
   "execution_count": 54,
   "id": "4c22c2b9",
   "metadata": {},
   "outputs": [
    {
     "data": {
      "text/plain": [
       "[0.6,\n",
       " 0.8,\n",
       " 0.6,\n",
       " 0.6,\n",
       " 0.6,\n",
       " 0.8,\n",
       " 0.8,\n",
       " 1.0,\n",
       " 0.8,\n",
       " 0.6,\n",
       " 0.8,\n",
       " 0.2,\n",
       " 0.4,\n",
       " 0.8,\n",
       " 0.4,\n",
       " 0.6,\n",
       " 0.8,\n",
       " 1.0,\n",
       " 0.6,\n",
       " 0.4,\n",
       " 0.8,\n",
       " 0.6,\n",
       " 0.8,\n",
       " 1.0,\n",
       " 1.0,\n",
       " 0.8,\n",
       " 0.8,\n",
       " 0.8,\n",
       " 0.2,\n",
       " 0.6,\n",
       " 1.0,\n",
       " 0.6,\n",
       " 0.6,\n",
       " 0.8,\n",
       " 0.6,\n",
       " 1.0,\n",
       " 0.8,\n",
       " 1.0,\n",
       " 0.8,\n",
       " 0.2,\n",
       " 0.8,\n",
       " 1.0,\n",
       " 0.8,\n",
       " 0.8,\n",
       " 0.2,\n",
       " 0.8,\n",
       " 0.8,\n",
       " 0.4,\n",
       " 1.0,\n",
       " 0.8,\n",
       " 0.4,\n",
       " 0.8,\n",
       " 0.8,\n",
       " 0.4,\n",
       " 1.0,\n",
       " 1.0,\n",
       " 0.6,\n",
       " 1.0,\n",
       " 0.4,\n",
       " 1.0,\n",
       " 0.6,\n",
       " 0.6,\n",
       " 1.0,\n",
       " 0.8,\n",
       " 0.8,\n",
       " 0.2,\n",
       " 0.8,\n",
       " 0.4,\n",
       " 0.8,\n",
       " 0.8,\n",
       " 1.0,\n",
       " 0.4,\n",
       " 0.6,\n",
       " 0.4,\n",
       " 0.6,\n",
       " 0.8,\n",
       " 0.6,\n",
       " 0.4,\n",
       " 0.4,\n",
       " 1.0,\n",
       " 1.0,\n",
       " 0.6,\n",
       " 0.4,\n",
       " 0.8,\n",
       " 1.0,\n",
       " 0.6,\n",
       " 0.4,\n",
       " 0.6,\n",
       " 1.0,\n",
       " 0.8,\n",
       " 0.4,\n",
       " 0.6,\n",
       " 0.8,\n",
       " 0.2,\n",
       " 0.8,\n",
       " 1.0,\n",
       " 0.6,\n",
       " 0.4,\n",
       " 0.6,\n",
       " 0.8,\n",
       " 0.8,\n",
       " 0.8,\n",
       " 1.0,\n",
       " 0.6,\n",
       " 0.8,\n",
       " 0.8,\n",
       " 0.8,\n",
       " 0.8,\n",
       " 0.8,\n",
       " 0.8,\n",
       " 0.8,\n",
       " 0.4,\n",
       " 0.8,\n",
       " 0.6,\n",
       " 0.6,\n",
       " 0.6,\n",
       " 0.2,\n",
       " 0.4,\n",
       " 0.8,\n",
       " 0.6,\n",
       " 1.0,\n",
       " 0.6,\n",
       " 0.6,\n",
       " 0.6,\n",
       " 0.8,\n",
       " 0.6,\n",
       " 0.6,\n",
       " 0.8,\n",
       " 0.6,\n",
       " 0.8,\n",
       " 0.8,\n",
       " 0.8,\n",
       " 1.0,\n",
       " 0.8,\n",
       " 1.0,\n",
       " 1.0,\n",
       " 0.6,\n",
       " 0.8,\n",
       " 0.6,\n",
       " 1.0,\n",
       " 0.6,\n",
       " 1.0,\n",
       " 0.6,\n",
       " 0.4,\n",
       " 0.8,\n",
       " 0.8,\n",
       " 0.6,\n",
       " 0.8,\n",
       " 0.4,\n",
       " 0.8,\n",
       " 0.8,\n",
       " 0.8,\n",
       " 0.6,\n",
       " 1.0,\n",
       " 0.8,\n",
       " 0.8,\n",
       " 0.6,\n",
       " 0.4,\n",
       " 0.6,\n",
       " 0.8,\n",
       " 0.6,\n",
       " 0.8,\n",
       " 0.6,\n",
       " 0.8,\n",
       " 0.6,\n",
       " 1.0,\n",
       " 0.6,\n",
       " 1.0,\n",
       " 1.0,\n",
       " 0.6,\n",
       " 0.8,\n",
       " 0.8,\n",
       " 0.8,\n",
       " 0.8,\n",
       " 0.4,\n",
       " 1.0,\n",
       " 0.4,\n",
       " 0.6,\n",
       " 0.8,\n",
       " 0.6,\n",
       " 0.8,\n",
       " 0.4,\n",
       " 0.8,\n",
       " 0.8,\n",
       " 0.6,\n",
       " 0.8,\n",
       " 0.8,\n",
       " 0.6,\n",
       " 0.8,\n",
       " 0.8,\n",
       " 0.8,\n",
       " 1.0,\n",
       " 0.8,\n",
       " 1.0,\n",
       " 0.8,\n",
       " 0.6,\n",
       " 0.8,\n",
       " 0.8,\n",
       " 0.8,\n",
       " 0.4,\n",
       " 0.8,\n",
       " 0.8,\n",
       " 0.6,\n",
       " 1.0,\n",
       " 0.8,\n",
       " 0.8,\n",
       " 0.6,\n",
       " 0.6,\n",
       " 0.4,\n",
       " 0.6,\n",
       " 0.8,\n",
       " 0.8,\n",
       " 0.4,\n",
       " 0.6,\n",
       " 1.0,\n",
       " 1.0,\n",
       " 0.8,\n",
       " 1.0,\n",
       " 0.6,\n",
       " 0.8,\n",
       " 0.8,\n",
       " 0.8,\n",
       " 0.6,\n",
       " 0.4,\n",
       " 0.4,\n",
       " 0.2,\n",
       " 0.8,\n",
       " 0.6,\n",
       " 0.8,\n",
       " 0.2,\n",
       " 0.6,\n",
       " 1.0,\n",
       " 0.4,\n",
       " 1.0,\n",
       " 0.8,\n",
       " 0.8,\n",
       " 0.4,\n",
       " 1.0,\n",
       " 0.6,\n",
       " 0.6,\n",
       " 0.6,\n",
       " 0.8,\n",
       " 0.4,\n",
       " 1.0,\n",
       " 0.6,\n",
       " 0.8,\n",
       " 0.6,\n",
       " 0.8,\n",
       " 1.0,\n",
       " 1.0,\n",
       " 0.8,\n",
       " 0.6,\n",
       " 1.0,\n",
       " 0.8,\n",
       " 0.8,\n",
       " 0.8,\n",
       " 1.0,\n",
       " 0.6,\n",
       " 0.8,\n",
       " 0.8,\n",
       " 0.6,\n",
       " 0.6,\n",
       " 0.6,\n",
       " 0.8,\n",
       " 0.6,\n",
       " 0.6,\n",
       " 0.6,\n",
       " 0.8,\n",
       " 0.4,\n",
       " 0.8,\n",
       " 0.6,\n",
       " 0.8,\n",
       " 1.0,\n",
       " 0.6,\n",
       " 0.4,\n",
       " 1.0,\n",
       " 0.6,\n",
       " 1.0,\n",
       " 0.6,\n",
       " 1.0,\n",
       " 0.6,\n",
       " 0.6,\n",
       " 0.8,\n",
       " 0.8,\n",
       " 0.4,\n",
       " 0.4,\n",
       " 0.4,\n",
       " 0.4,\n",
       " 0.4,\n",
       " 0.6,\n",
       " 0.8,\n",
       " 0.8,\n",
       " 0.6,\n",
       " 0.8,\n",
       " 0.6,\n",
       " 0.4,\n",
       " 0.6,\n",
       " 0.8,\n",
       " 0.8,\n",
       " 0.8,\n",
       " 1.0,\n",
       " 0.4,\n",
       " 0.8,\n",
       " 0.8,\n",
       " 0.4,\n",
       " 0.8,\n",
       " 0.6,\n",
       " 0.8,\n",
       " 0.6,\n",
       " 1.0,\n",
       " 0.6,\n",
       " 0.6,\n",
       " 0.4,\n",
       " 0.6,\n",
       " 0.6,\n",
       " 1.0,\n",
       " 0.4,\n",
       " 1.0,\n",
       " 0.8,\n",
       " 0.6,\n",
       " 0.6,\n",
       " 1.0,\n",
       " 0.8,\n",
       " 0.8,\n",
       " 0.6,\n",
       " 0.6,\n",
       " 0.2,\n",
       " 0.8,\n",
       " 0.8,\n",
       " 0.8,\n",
       " 1.0,\n",
       " 0.8,\n",
       " 0.6,\n",
       " 0.8,\n",
       " 0.6,\n",
       " 0.8,\n",
       " 1.0,\n",
       " 0.6,\n",
       " 0.8,\n",
       " 0.6,\n",
       " 1.0,\n",
       " 1.0,\n",
       " 0.8,\n",
       " 1.0,\n",
       " 1.0,\n",
       " 0.6,\n",
       " 0.4,\n",
       " 0.2,\n",
       " 0.8,\n",
       " 1.0,\n",
       " 0.6,\n",
       " 1.0,\n",
       " 0.6,\n",
       " 0.4,\n",
       " 0.4,\n",
       " 0.6,\n",
       " 0.6,\n",
       " 0.2,\n",
       " 0.6,\n",
       " 0.6,\n",
       " 1.0,\n",
       " 0.8,\n",
       " 1.0,\n",
       " 0.8,\n",
       " 0.8,\n",
       " 0.8,\n",
       " 0.4,\n",
       " 0.4,\n",
       " 0.8,\n",
       " 0.8,\n",
       " 0.6,\n",
       " 0.8,\n",
       " 0.4,\n",
       " 0.6,\n",
       " 0.6,\n",
       " 0.6,\n",
       " 1.0,\n",
       " 1.0,\n",
       " 0.4,\n",
       " 1.0,\n",
       " 0.6,\n",
       " 1.0,\n",
       " 0.4,\n",
       " 0.6,\n",
       " 0.6,\n",
       " 1.0,\n",
       " 0.4,\n",
       " 0.6,\n",
       " 0.8,\n",
       " 0.8,\n",
       " 0.8,\n",
       " 0.4,\n",
       " 0.8,\n",
       " 0.8,\n",
       " 1.0,\n",
       " 0.6,\n",
       " 0.8,\n",
       " 0.6,\n",
       " 0.8,\n",
       " 0.8,\n",
       " 0.8,\n",
       " 0.8,\n",
       " 0.8,\n",
       " 0.6,\n",
       " 1.0,\n",
       " 0.4,\n",
       " 0.8,\n",
       " 0.6,\n",
       " 0.8,\n",
       " 1.0,\n",
       " 0.8,\n",
       " 0.4,\n",
       " 0.4,\n",
       " 0.8,\n",
       " 0.2,\n",
       " 0.8,\n",
       " 0.8,\n",
       " 1.0,\n",
       " 0.4,\n",
       " 0.2,\n",
       " 1.0,\n",
       " 0.6,\n",
       " 0.8,\n",
       " 0.8,\n",
       " 1.0,\n",
       " 0.8,\n",
       " 0.8,\n",
       " 0.8,\n",
       " 0.6,\n",
       " 0.6,\n",
       " 0.6,\n",
       " 0.6,\n",
       " 0.6,\n",
       " 1.0,\n",
       " 1.0,\n",
       " 0.8,\n",
       " 0.8,\n",
       " 0.8,\n",
       " 0.4,\n",
       " 1.0,\n",
       " 0.8,\n",
       " 0.6,\n",
       " 0.6,\n",
       " 0.8,\n",
       " 1.0,\n",
       " 0.4,\n",
       " 0.8,\n",
       " 0.4,\n",
       " 0.6,\n",
       " 0.8,\n",
       " 0.8,\n",
       " 0.8,\n",
       " 0.6,\n",
       " 0.6,\n",
       " 1.0,\n",
       " 0.0,\n",
       " 0.6,\n",
       " 0.8,\n",
       " 0.8,\n",
       " 0.8,\n",
       " 0.8,\n",
       " 1.0,\n",
       " 0.6,\n",
       " 0.6,\n",
       " 0.8,\n",
       " 0.6,\n",
       " 0.4,\n",
       " 0.6,\n",
       " 1.0,\n",
       " 0.6,\n",
       " 0.6,\n",
       " 0.4,\n",
       " 0.6,\n",
       " 0.8,\n",
       " 0.6,\n",
       " 0.4,\n",
       " 0.6,\n",
       " 1.0,\n",
       " 1.0,\n",
       " 0.4,\n",
       " 1.0,\n",
       " 0.4,\n",
       " 0.2,\n",
       " 0.8,\n",
       " 1.0,\n",
       " 0.8,\n",
       " 1.0,\n",
       " 0.8,\n",
       " 0.6,\n",
       " 1.0,\n",
       " 0.6,\n",
       " 0.6,\n",
       " 0.8,\n",
       " 1.0,\n",
       " 1.0,\n",
       " 0.8,\n",
       " 0.6,\n",
       " 0.6,\n",
       " 0.8,\n",
       " 0.4,\n",
       " 1.0,\n",
       " 0.6,\n",
       " 0.6,\n",
       " 0.6,\n",
       " 1.0,\n",
       " 0.6,\n",
       " 0.4,\n",
       " 0.6,\n",
       " 0.8,\n",
       " 0.6,\n",
       " 1.0,\n",
       " 0.8,\n",
       " 0.2,\n",
       " 0.8,\n",
       " 0.8,\n",
       " 0.8,\n",
       " 1.0,\n",
       " 0.4,\n",
       " 0.4,\n",
       " 0.8,\n",
       " 0.8,\n",
       " 0.6,\n",
       " 0.6,\n",
       " 0.6,\n",
       " 0.8,\n",
       " 0.6,\n",
       " 0.4,\n",
       " 0.8,\n",
       " 1.0,\n",
       " 0.8,\n",
       " 0.6,\n",
       " 0.6,\n",
       " 1.0,\n",
       " 0.8,\n",
       " 1.0,\n",
       " 0.4,\n",
       " 0.8,\n",
       " 0.8,\n",
       " 0.6,\n",
       " 0.8,\n",
       " 0.8,\n",
       " 0.4,\n",
       " 0.6,\n",
       " 0.4,\n",
       " 1.0,\n",
       " 0.6,\n",
       " 0.8,\n",
       " 0.6,\n",
       " 0.8,\n",
       " 0.8,\n",
       " 1.0,\n",
       " 0.6,\n",
       " 0.8,\n",
       " 0.6,\n",
       " 0.6,\n",
       " 1.0,\n",
       " 0.8,\n",
       " 0.8,\n",
       " 0.6,\n",
       " 0.4,\n",
       " 1.0,\n",
       " 1.0,\n",
       " 0.8,\n",
       " 0.6,\n",
       " 1.0,\n",
       " 0.8,\n",
       " 0.8,\n",
       " 0.8,\n",
       " 0.6,\n",
       " 0.6,\n",
       " 0.8,\n",
       " 0.8,\n",
       " 0.4,\n",
       " 1.0,\n",
       " 0.8,\n",
       " 0.8,\n",
       " 0.8,\n",
       " 0.6,\n",
       " 0.8,\n",
       " 0.4,\n",
       " 0.6,\n",
       " 0.8,\n",
       " 0.8,\n",
       " 0.6,\n",
       " 1.0,\n",
       " 0.6,\n",
       " 1.0,\n",
       " 0.4,\n",
       " 0.8,\n",
       " 0.8,\n",
       " 1.0,\n",
       " 0.8,\n",
       " 0.8,\n",
       " 0.6,\n",
       " 0.6,\n",
       " 0.8,\n",
       " 0.4,\n",
       " 1.0,\n",
       " 0.6,\n",
       " 0.8,\n",
       " 1.0,\n",
       " 0.4,\n",
       " 0.8,\n",
       " 0.8,\n",
       " 0.4,\n",
       " 0.6,\n",
       " 0.8,\n",
       " 0.8,\n",
       " 1.0,\n",
       " 0.6,\n",
       " 0.6,\n",
       " 1.0,\n",
       " 0.8,\n",
       " 0.8,\n",
       " 1.0,\n",
       " 0.4,\n",
       " 0.8,\n",
       " 0.4,\n",
       " 0.6,\n",
       " 0.8,\n",
       " 1.0,\n",
       " 0.6,\n",
       " 0.8,\n",
       " 0.8,\n",
       " 0.6,\n",
       " 0.6,\n",
       " 0.8,\n",
       " 0.4,\n",
       " 0.8,\n",
       " 0.8,\n",
       " 0.8,\n",
       " 1.0,\n",
       " 0.4,\n",
       " 1.0,\n",
       " 0.8,\n",
       " 0.8,\n",
       " 0.6,\n",
       " 1.0,\n",
       " 0.2,\n",
       " 0.4,\n",
       " 0.8,\n",
       " 0.8,\n",
       " 0.8,\n",
       " 1.0,\n",
       " 1.0,\n",
       " 0.8,\n",
       " 0.6,\n",
       " 0.8,\n",
       " 0.8,\n",
       " 0.8,\n",
       " 0.8,\n",
       " 0.8,\n",
       " 1.0,\n",
       " 0.8,\n",
       " 0.8,\n",
       " 0.4,\n",
       " 0.6,\n",
       " 0.8,\n",
       " 0.4,\n",
       " 0.6,\n",
       " 0.8,\n",
       " 1.0,\n",
       " 0.8,\n",
       " 0.8,\n",
       " 0.8,\n",
       " 0.8,\n",
       " 0.6,\n",
       " 0.8,\n",
       " 0.6,\n",
       " 1.0,\n",
       " 1.0,\n",
       " 0.8,\n",
       " 0.8,\n",
       " 1.0,\n",
       " 0.8,\n",
       " 0.6,\n",
       " 0.8,\n",
       " 0.8,\n",
       " 0.8,\n",
       " 0.4,\n",
       " 0.8,\n",
       " 0.6,\n",
       " 1.0,\n",
       " 0.6,\n",
       " 0.6,\n",
       " 0.8,\n",
       " 0.6,\n",
       " 0.4,\n",
       " 0.4,\n",
       " 0.2,\n",
       " 0.8,\n",
       " 0.6,\n",
       " 0.6,\n",
       " 0.6,\n",
       " 0.8,\n",
       " 0.8,\n",
       " 1.0,\n",
       " 0.8,\n",
       " 0.6,\n",
       " 0.8,\n",
       " 0.6,\n",
       " 0.6,\n",
       " 0.8,\n",
       " 0.6,\n",
       " 0.6,\n",
       " 1.0,\n",
       " 0.6,\n",
       " 0.2,\n",
       " 0.4,\n",
       " 0.8,\n",
       " 0.8,\n",
       " 0.8,\n",
       " 1.0,\n",
       " 0.6,\n",
       " 0.6,\n",
       " 0.6,\n",
       " 0.8,\n",
       " 1.0,\n",
       " 0.6,\n",
       " 0.4,\n",
       " 1.0,\n",
       " 0.8,\n",
       " 1.0,\n",
       " 0.4,\n",
       " 0.6,\n",
       " 1.0,\n",
       " 0.8,\n",
       " 0.8,\n",
       " 0.8,\n",
       " 0.8,\n",
       " 0.4,\n",
       " 0.8,\n",
       " 0.8,\n",
       " 1.0,\n",
       " 0.6,\n",
       " 0.4,\n",
       " 0.4,\n",
       " 0.6,\n",
       " 0.6,\n",
       " 0.8,\n",
       " 0.6,\n",
       " 1.0,\n",
       " 0.8,\n",
       " 0.8,\n",
       " 0.6,\n",
       " 0.4,\n",
       " 0.6,\n",
       " 0.6,\n",
       " 0.8,\n",
       " 0.6,\n",
       " 0.6,\n",
       " 0.4,\n",
       " 0.8,\n",
       " 1.0,\n",
       " 0.4,\n",
       " 0.6,\n",
       " 0.6,\n",
       " 1.0,\n",
       " 0.8,\n",
       " 0.4,\n",
       " 1.0,\n",
       " 0.8,\n",
       " 1.0,\n",
       " 1.0,\n",
       " 0.8,\n",
       " 0.8,\n",
       " 0.6,\n",
       " 0.8,\n",
       " 0.6,\n",
       " 0.8,\n",
       " 0.6,\n",
       " 0.6,\n",
       " 0.2,\n",
       " 0.8,\n",
       " 0.6,\n",
       " 1.0,\n",
       " 0.8,\n",
       " 1.0,\n",
       " 0.8,\n",
       " 1.0,\n",
       " 0.8,\n",
       " 0.2,\n",
       " 0.6,\n",
       " 0.8,\n",
       " 1.0,\n",
       " 0.6,\n",
       " 0.8,\n",
       " 0.6,\n",
       " 0.8,\n",
       " 1.0,\n",
       " 1.0,\n",
       " 0.6,\n",
       " 0.6,\n",
       " 0.8,\n",
       " 0.8,\n",
       " 0.8,\n",
       " 0.8,\n",
       " 0.6,\n",
       " 0.8,\n",
       " 0.6,\n",
       " 0.6,\n",
       " 1.0,\n",
       " 0.6,\n",
       " 0.8,\n",
       " 1.0,\n",
       " 1.0,\n",
       " 0.2,\n",
       " 0.6,\n",
       " 0.6,\n",
       " 0.2,\n",
       " 0.8,\n",
       " 0.6,\n",
       " 0.8,\n",
       " 0.8,\n",
       " 0.8,\n",
       " 1.0,\n",
       " 0.6,\n",
       " 0.6,\n",
       " 0.6,\n",
       " 0.6,\n",
       " 0.4,\n",
       " 1.0,\n",
       " 1.0,\n",
       " 0.8,\n",
       " 0.4,\n",
       " 1.0,\n",
       " 0.6,\n",
       " 0.6,\n",
       " 1.0,\n",
       " 0.6,\n",
       " 0.8,\n",
       " 0.8,\n",
       " 1.0,\n",
       " 0.8,\n",
       " 0.4,\n",
       " 0.4,\n",
       " 0.6,\n",
       " 0.8,\n",
       " 0.6,\n",
       " 0.8,\n",
       " 0.8,\n",
       " 1.0,\n",
       " 0.8,\n",
       " 0.4,\n",
       " 0.4,\n",
       " 1.0,\n",
       " 0.8,\n",
       " 1.0,\n",
       " 0.8,\n",
       " 0.6,\n",
       " 0.8,\n",
       " 0.4,\n",
       " 1.0,\n",
       " 0.8,\n",
       " 0.6,\n",
       " 0.8,\n",
       " 0.6,\n",
       " 0.6,\n",
       " 0.6,\n",
       " 0.6,\n",
       " 0.8,\n",
       " 0.8,\n",
       " 0.6,\n",
       " 0.6,\n",
       " 0.8,\n",
       " 0.8,\n",
       " 0.2,\n",
       " 0.6,\n",
       " 0.4,\n",
       " 0.8,\n",
       " 0.8,\n",
       " 0.4,\n",
       " 0.4,\n",
       " 1.0,\n",
       " 0.6,\n",
       " 0.6,\n",
       " 0.6,\n",
       " 0.8,\n",
       " 0.6,\n",
       " 0.8,\n",
       " 0.4,\n",
       " 1.0,\n",
       " 1.0,\n",
       " 0.6,\n",
       " 0.6,\n",
       " 0.6,\n",
       " 0.8,\n",
       " 0.8,\n",
       " 0.8,\n",
       " 0.8,\n",
       " 1.0,\n",
       " 0.8,\n",
       " 1.0,\n",
       " 0.8,\n",
       " 0.6,\n",
       " 0.8,\n",
       " 0.4,\n",
       " 0.6,\n",
       " 0.6,\n",
       " 0.6,\n",
       " 0.8,\n",
       " 0.8,\n",
       " 0.6,\n",
       " 0.8,\n",
       " 0.2,\n",
       " 0.6,\n",
       " 0.8,\n",
       " 0.4,\n",
       " 0.2,\n",
       " 1.0,\n",
       " 0.8,\n",
       " 0.6,\n",
       " 0.6,\n",
       " 1.0,\n",
       " 0.6,\n",
       " 0.8,\n",
       " 0.4,\n",
       " 0.8,\n",
       " 0.8,\n",
       " 0.6,\n",
       " 0.8,\n",
       " 0.8,\n",
       " 1.0,\n",
       " 0.6,\n",
       " 0.6,\n",
       " 1.0,\n",
       " 0.6,\n",
       " 0.6,\n",
       " 0.4,\n",
       " 0.6,\n",
       " 0.4,\n",
       " 0.6,\n",
       " 0.8,\n",
       " 0.8,\n",
       " 0.8,\n",
       " 0.4,\n",
       " 1.0,\n",
       " 0.8,\n",
       " 1.0,\n",
       " 0.2,\n",
       " 1.0,\n",
       " 0.6,\n",
       " 1.0,\n",
       " 1.0,\n",
       " 0.8,\n",
       " 0.4,\n",
       " 0.8,\n",
       " 0.6,\n",
       " 0.6,\n",
       " 0.8,\n",
       " 0.6,\n",
       " 1.0,\n",
       " 0.6,\n",
       " 0.8,\n",
       " 0.4,\n",
       " 0.4,\n",
       " 0.8,\n",
       " 0.8,\n",
       " 0.8,\n",
       " 0.8,\n",
       " 0.8,\n",
       " 0.4,\n",
       " 0.8,\n",
       " 0.8,\n",
       " 0.8,\n",
       " 0.8,\n",
       " 1.0,\n",
       " 0.4,\n",
       " 0.6,\n",
       " 0.6,\n",
       " 0.6,\n",
       " 1.0,\n",
       " 0.2,\n",
       " 0.8,\n",
       " 0.6,\n",
       " 1.0,\n",
       " 0.8,\n",
       " 0.6,\n",
       " 1.0,\n",
       " 0.6,\n",
       " 0.4,\n",
       " 1.0,\n",
       " 0.6,\n",
       " 1.0,\n",
       " 1.0,\n",
       " 0.8,\n",
       " 0.6,\n",
       " 1.0,\n",
       " 1.0,\n",
       " 0.8,\n",
       " 0.6,\n",
       " 0.8,\n",
       " 0.8,\n",
       " 0.8,\n",
       " 1.0,\n",
       " 0.8,\n",
       " 0.8,\n",
       " 1.0,\n",
       " 0.6,\n",
       " 1.0,\n",
       " ...]"
      ]
     },
     "execution_count": 54,
     "metadata": {},
     "output_type": "execute_result"
    }
   ],
   "source": [
    "sample_props=[]\n",
    "for _ in range(10000):\n",
    "    sample=np.random.choice(students,size=5,replace=True)\n",
    "    sample_props.append(sample.mean())\n",
    "sample_props    "
   ]
  },
  {
   "cell_type": "markdown",
   "id": "53fd6fed",
   "metadata": {},
   "source": [
    "`4.` What is the mean proportion of all 10,000 of these proportions? This is often called the mean of the sampling distribution."
   ]
  },
  {
   "cell_type": "code",
   "execution_count": 55,
   "id": "273f9d4e",
   "metadata": {},
   "outputs": [
    {
     "data": {
      "text/plain": [
       "0.71284"
      ]
     },
     "execution_count": 55,
     "metadata": {},
     "output_type": "execute_result"
    }
   ],
   "source": [
    "sample_props=np.array(sample_props)\n",
    "sample_props.mean()"
   ]
  },
  {
   "cell_type": "markdown",
   "id": "6954a023",
   "metadata": {},
   "source": [
    "`5.` What are the variance and standard deviation for the original 21 data values?"
   ]
  },
  {
   "cell_type": "code",
   "execution_count": 27,
   "id": "52a5090b",
   "metadata": {},
   "outputs": [
    {
     "name": "stdout",
     "output_type": "stream",
     "text": [
      "the variance for the original data is 0.45175395145262565\n",
      "The standard deviation for the original data is 0.20408163265306126\n"
     ]
    }
   ],
   "source": [
    "print(\"the variance for the original data is \"+str(students.std()))\n",
    "print('The standard deviation for the original data is '+str(students.var()))"
   ]
  },
  {
   "cell_type": "markdown",
   "id": "bce0a863",
   "metadata": {},
   "source": [
    "`6.` What are the variance and standard deviation for the 10,000 proportions you created?"
   ]
  },
  {
   "cell_type": "code",
   "execution_count": 31,
   "id": "8963a14a",
   "metadata": {},
   "outputs": [
    {
     "name": "stdout",
     "output_type": "stream",
     "text": [
      "The standard deviation of the sampling distribution of the mean of 5 draws is 0.0\n",
      "The variance of the sampling distribution of the mean of 5 draws is 0.0\n"
     ]
    }
   ],
   "source": [
    "print('The standard deviation of the sampling distribution of the mean of 5 draws is {}'.format(sample_props.std()))\n",
    "print('The variance of the sampling distribution of the mean of 5 draws is {}'.format(sample_props.var()))"
   ]
  },
  {
   "cell_type": "markdown",
   "id": "f745b425",
   "metadata": {},
   "source": [
    "`7.` Compute p(1-p), which of your answers does this most closely match?"
   ]
  },
  {
   "cell_type": "code",
   "execution_count": 33,
   "id": "ec66da96",
   "metadata": {},
   "outputs": [
    {
     "data": {
      "text/plain": [
       "0.20408163265306123"
      ]
     },
     "execution_count": 33,
     "metadata": {},
     "output_type": "execute_result"
    }
   ],
   "source": [
    "p*(1-p) # The variance of the original data"
   ]
  },
  {
   "cell_type": "markdown",
   "id": "08b19da3",
   "metadata": {},
   "source": [
    "`8.` Compute p(1-p)/n, which of your answers does this most closely match?"
   ]
  },
  {
   "cell_type": "code",
   "execution_count": 35,
   "id": "2588b979",
   "metadata": {},
   "outputs": [
    {
     "data": {
      "text/plain": [
       "0.04081632653061225"
      ]
     },
     "execution_count": 35,
     "metadata": {},
     "output_type": "execute_result"
    }
   ],
   "source": [
    "p*(1-p)/5 #The variance of the sample mean of size 5"
   ]
  },
  {
   "cell_type": "markdown",
   "id": "d63b3466",
   "metadata": {},
   "source": [
    "`9.` Notice that your answer to `8.` is commonly called the **variance of the sampling distribution**.  If you were to change your first sample to be 20, what would this do for the variance of the sampling distribution?  Simulate and calculate the new answers in `6.` and `8.` to check that the consistency you found before still holds."
   ]
  },
  {
   "cell_type": "code",
   "execution_count": 39,
   "id": "9f1a004d",
   "metadata": {},
   "outputs": [],
   "source": [
    "sample_props_20=[]\n",
    "for _ in range(10000):\n",
    "    sample=np.random.choice(students,size=20,replace=True)\n",
    "    sample_props_20.append(sample.mean())"
   ]
  },
  {
   "cell_type": "code",
   "execution_count": 43,
   "id": "da13887e",
   "metadata": {},
   "outputs": [
    {
     "name": "stdout",
     "output_type": "stream",
     "text": [
      "0.010204081632653062\n",
      "0.010112291975\n"
     ]
    }
   ],
   "source": [
    "print(p*(1-p)/20)\n",
    "print(np.array(sample_props_20).var())"
   ]
  },
  {
   "cell_type": "markdown",
   "id": "5a8e7c47",
   "metadata": {},
   "source": [
    "`10.` Finally, plot a histgram of the 10,000 draws from both the proportions with a sample size of 5 and the proportions with a sample size of 20.  Each of these distributions is a sampling distribution.  One is for the proportions of sample size 5 and the other a sampling distribution for proportions with sample size 20."
   ]
  },
  {
   "cell_type": "code",
   "execution_count": 61,
   "id": "6a64d557",
   "metadata": {},
   "outputs": [
    {
     "data": {
      "image/png": "[encoded data removed]",
      "text/plain": [
       "<Figure size 640x480 with 1 Axes>"
      ]
     },
     "metadata": {},
     "output_type": "display_data"
    }
   ],
   "source": [
    "plt.hist(sample_props,alpha=.5,label='sample_props')\n",
    "plt.hist(np.array(sample_props_20),alpha=.5,label='sample_props_20')\n",
    "plt.legend();"
   ]
  },
  {
   "cell_type": "markdown",
   "id": "d48045e6",
   "metadata": {},
   "source": [
    "### Law of Large Numbers Example"
   ]
  },
  {
   "cell_type": "code",
   "execution_count": 14,
   "id": "255747b9",
   "metadata": {},
   "outputs": [
    {
     "data": {
      "image/png": "[encoded data removed]",
      "text/plain": [
       "<Figure size 640x480 with 1 Axes>"
      ]
     },
     "metadata": {},
     "output_type": "display_data"
    }
   ],
   "source": [
    "import numpy as np\n",
    "import matplotlib.pyplot as plt\n",
    "\n",
    "%matplotlib inline\n",
    "np.random.seed(42)\n",
    "\n",
    "# This is just setting up some random data in pop_data\n",
    "# The functionality of the gamma distribution is not relevant \n",
    "# for this class.\n",
    "pop_data = np.random.gamma(1,100,3000)\n",
    "plt.hist(pop_data);"
   ]
  },
  {
   "cell_type": "code",
   "execution_count": 15,
   "id": "2b2fcf56",
   "metadata": {},
   "outputs": [
    {
     "data": {
      "text/plain": [
       "3000"
      ]
     },
     "execution_count": 15,
     "metadata": {},
     "output_type": "execute_result"
    }
   ],
   "source": [
    "pop_data.size"
   ]
  },
  {
   "cell_type": "code",
   "execution_count": 16,
   "id": "9f42837a",
   "metadata": {},
   "outputs": [
    {
     "data": {
      "text/plain": [
       "100.35978700795846"
      ]
     },
     "execution_count": 16,
     "metadata": {},
     "output_type": "execute_result"
    }
   ],
   "source": [
    "pop_data.mean()"
   ]
  },
  {
   "cell_type": "code",
   "execution_count": 17,
   "id": "2a9426b4",
   "metadata": {},
   "outputs": [
    {
     "data": {
      "text/plain": [
       "27.685829640608965"
      ]
     },
     "execution_count": 17,
     "metadata": {},
     "output_type": "execute_result"
    }
   ],
   "source": [
    "sample=np.random.choice(pop_data,size=5)\n",
    "sample.mean()"
   ]
  },
  {
   "cell_type": "code",
   "execution_count": 18,
   "id": "ca5f08ba",
   "metadata": {},
   "outputs": [
    {
     "data": {
      "text/plain": [
       "163.3701520126447"
      ]
     },
     "execution_count": 18,
     "metadata": {},
     "output_type": "execute_result"
    }
   ],
   "source": [
    "sample1=np.random.choice(pop_data,size=20)\n",
    "sample1.mean()"
   ]
  },
  {
   "cell_type": "code",
   "execution_count": 19,
   "id": "a68e0a51",
   "metadata": {},
   "outputs": [
    {
     "data": {
      "text/plain": [
       "119.55076984115861"
      ]
     },
     "execution_count": 19,
     "metadata": {},
     "output_type": "execute_result"
    }
   ],
   "source": [
    "sample2=np.random.choice(pop_data,size=100)\n",
    "sample2.mean()"
   ]
  },
  {
   "cell_type": "markdown",
   "id": "817397a7",
   "metadata": {},
   "source": [
    "### Central Limit Theorem"
   ]
  },
  {
   "cell_type": "code",
   "execution_count": 22,
   "id": "d2f85459",
   "metadata": {},
   "outputs": [
    {
     "data": {
      "image/png": "[encoded data removed]",
      "text/plain": [
       "<Figure size 640x480 with 1 Axes>"
      ]
     },
     "metadata": {},
     "output_type": "display_data"
    }
   ],
   "source": [
    "import numpy as np\n",
    "import matplotlib.pyplot as plt\n",
    "\n",
    "%matplotlib inline\n",
    "np.random.seed(42)\n",
    "\n",
    "pop_data = np.random.gamma(1,100,3000)\n",
    "plt.hist(pop_data);"
   ]
  },
  {
   "cell_type": "markdown",
   "id": "f178b33a",
   "metadata": {},
   "source": [
    "1. In order to create the sampling distribution for the average of 3 draws of this distribution, follow these steps:\n",
    "\n",
    "a. Use numpy's random.choice to simulate 3 draws from the pop_data array.\n",
    "\n",
    "b. Compute the mean of these 3 draws.\n",
    "\n",
    "c. Write a loop to simulate this process 10,000 times, and store each mean into an array called means_size_3.\n",
    "\n",
    "d. Plot a histogram of your sample means.\n",
    "\n",
    "e. Use means_size_3 and pop_data to answer the quiz questions below."
   ]
  },
  {
   "cell_type": "code",
   "execution_count": 31,
   "id": "d133ecd2",
   "metadata": {},
   "outputs": [
    {
     "data": {
      "text/plain": [
       "100.35978700795846"
      ]
     },
     "execution_count": 31,
     "metadata": {},
     "output_type": "execute_result"
    }
   ],
   "source": [
    "pop_data.mean()"
   ]
  },
  {
   "cell_type": "code",
   "execution_count": 33,
   "id": "be815c2c",
   "metadata": {},
   "outputs": [
    {
     "data": {
      "text/plain": [
       "99.77860187968906"
      ]
     },
     "execution_count": 33,
     "metadata": {},
     "output_type": "execute_result"
    }
   ],
   "source": [
    "pop_data.std()"
   ]
  },
  {
   "cell_type": "code",
   "execution_count": 32,
   "id": "fdd0c82c",
   "metadata": {},
   "outputs": [
    {
     "data": {
      "text/plain": [
       "52.0946243115087"
      ]
     },
     "execution_count": 32,
     "metadata": {},
     "output_type": "execute_result"
    }
   ],
   "source": [
    "sample=np.random.choice(pop_data,3)"
   ]
  },
  {
   "cell_type": "code",
   "execution_count": 30,
   "id": "605611d1",
   "metadata": {},
   "outputs": [
    {
     "data": {
      "image/png": "[encoded data removed]",
      "text/plain": [
       "<Figure size 640x480 with 1 Axes>"
      ]
     },
     "metadata": {},
     "output_type": "display_data"
    }
   ],
   "source": [
    "means_size_3=[]\n",
    "for i in range(10000):\n",
    "    sample=np.random.choice(pop_data,3)\n",
    "    means_size_3.append(sample.mean())\n",
    "plt.hist(means_size_3) ;   "
   ]
  },
  {
   "cell_type": "code",
   "execution_count": 60,
   "id": "9e5d2540",
   "metadata": {},
   "outputs": [
    {
     "data": {
      "text/plain": [
       "100.39702338785979"
      ]
     },
     "execution_count": 60,
     "metadata": {},
     "output_type": "execute_result"
    }
   ],
   "source": [
    "np.array(means_size_3).mean()"
   ]
  },
  {
   "cell_type": "code",
   "execution_count": 62,
   "id": "62b24186",
   "metadata": {},
   "outputs": [
    {
     "data": {
      "text/plain": [
       "9.931102905593642"
      ]
     },
     "execution_count": 62,
     "metadata": {},
     "output_type": "execute_result"
    }
   ],
   "source": [
    "np.array(means_size_3).std()"
   ]
  },
  {
   "cell_type": "code",
   "execution_count": null,
   "id": "05d67793",
   "metadata": {},
   "outputs": [],
   "source": [
    "#--------------------------------------------------------------------------------------"
   ]
  },
  {
   "cell_type": "code",
   "execution_count": 63,
   "id": "75063975",
   "metadata": {},
   "outputs": [
    {
     "data": {
      "image/png": "[encoded data removed]",
      "text/plain": [
       "<Figure size 640x480 with 1 Axes>"
      ]
     },
     "metadata": {},
     "output_type": "display_data"
    }
   ],
   "source": [
    "import numpy as np\n",
    "import matplotlib.pyplot as plt\n",
    "\n",
    "%matplotlib inline\n",
    "np.random.seed(42)\n",
    "\n",
    "pop_data = np.random.gamma(1,100,3000)\n",
    "plt.hist(pop_data);"
   ]
  },
  {
   "cell_type": "markdown",
   "id": "5551ca1e",
   "metadata": {},
   "source": [
    "`1.` In order to create the sampling distribution for the average of 100 draws of this distribution, follow these steps:\n",
    "\n",
    "`a.` Use numpy's **random.choice** to simulate 100 draws from the `pop_data` array.   <br><br>\n",
    "`b.` Compute the mean of these 100 draws. <br><br>\n",
    "`c.` Write a loop to simulate this process 10,000 times, and store each mean into an array called **means_size_100**.<br><br>\n",
    "`d.` Plot a histogram of your sample means.<br><br>\n",
    "`e.` Use **means_size_100** and **pop_data** to answer the quiz questions below."
   ]
  },
  {
   "cell_type": "code",
   "execution_count": 64,
   "id": "2c3965fd",
   "metadata": {},
   "outputs": [
    {
     "data": {
      "text/plain": [
       "100.35978700795846"
      ]
     },
     "execution_count": 64,
     "metadata": {},
     "output_type": "execute_result"
    }
   ],
   "source": [
    "pop_data.mean()"
   ]
  },
  {
   "cell_type": "code",
   "execution_count": 65,
   "id": "9dcdd43d",
   "metadata": {},
   "outputs": [
    {
     "data": {
      "text/plain": [
       "99.77860187968906"
      ]
     },
     "execution_count": 65,
     "metadata": {},
     "output_type": "execute_result"
    }
   ],
   "source": [
    "pop_data.std()"
   ]
  },
  {
   "cell_type": "code",
   "execution_count": 66,
   "id": "0f3e5a54",
   "metadata": {},
   "outputs": [
    {
     "data": {
      "image/png": "[encoded data removed]",
      "text/plain": [
       "<Figure size 640x480 with 1 Axes>"
      ]
     },
     "metadata": {},
     "output_type": "display_data"
    }
   ],
   "source": [
    "means_size_100=[]\n",
    "for i in range(10000):\n",
    "    sample=np.random.choice(pop_data,100)\n",
    "    means_size_100.append(sample.mean())\n",
    "plt.hist(means_size_100); "
   ]
  },
  {
   "cell_type": "code",
   "execution_count": 67,
   "id": "efa34581",
   "metadata": {},
   "outputs": [
    {
     "data": {
      "text/plain": [
       "100.45928252074191"
      ]
     },
     "execution_count": 67,
     "metadata": {},
     "output_type": "execute_result"
    }
   ],
   "source": [
    "np.array(means_size_100).mean()"
   ]
  },
  {
   "cell_type": "code",
   "execution_count": 68,
   "id": "14cca212",
   "metadata": {},
   "outputs": [
    {
     "data": {
      "text/plain": [
       "9.972953693407257"
      ]
     },
     "execution_count": 68,
     "metadata": {},
     "output_type": "execute_result"
    }
   ],
   "source": [
    "np.array(means_size_100).std()"
   ]
  },
  {
   "cell_type": "code",
   "execution_count": null,
   "id": "54c3cf34",
   "metadata": {},
   "outputs": [],
   "source": [
    "#--------------------------------------------------------------------------------------"
   ]
  },
  {
   "cell_type": "code",
   "execution_count": 77,
   "id": "7bbb3f0a",
   "metadata": {},
   "outputs": [
    {
     "data": {
      "image/png": "[encoded data removed]",
      "text/plain": [
       "<Figure size 640x480 with 1 Axes>"
      ]
     },
     "metadata": {},
     "output_type": "display_data"
    }
   ],
   "source": [
    "var_size_100=[]\n",
    "for i in range(10000):\n",
    "    sample=np.random.choice(pop_data,100)\n",
    "    var_size_100.append(sample.var())\n",
    "plt.hist(var_size_100); "
   ]
  },
  {
   "cell_type": "code",
   "execution_count": 78,
   "id": "81ca3758",
   "metadata": {},
   "outputs": [
    {
     "data": {
      "text/plain": [
       "6642091.743988659"
      ]
     },
     "execution_count": 78,
     "metadata": {},
     "output_type": "execute_result"
    }
   ],
   "source": [
    "np.array(var_size_100).var()"
   ]
  },
  {
   "cell_type": "code",
   "execution_count": 79,
   "id": "6c0ee058",
   "metadata": {},
   "outputs": [
    {
     "data": {
      "text/plain": [
       "9876.064595804472"
      ]
     },
     "execution_count": 79,
     "metadata": {},
     "output_type": "execute_result"
    }
   ],
   "source": [
    "np.array(var_size_100).mean()"
   ]
  },
  {
   "cell_type": "code",
   "execution_count": 80,
   "id": "11fa67cf",
   "metadata": {},
   "outputs": [
    {
     "data": {
      "text/plain": [
       "9955.76939306549"
      ]
     },
     "execution_count": 80,
     "metadata": {},
     "output_type": "execute_result"
    }
   ],
   "source": [
    "pop_data.var()"
   ]
  },
  {
   "cell_type": "code",
   "execution_count": null,
   "id": "01f733c0",
   "metadata": {},
   "outputs": [],
   "source": []
  }
 ],
 "metadata": {
  "kernelspec": {
   "display_name": "Python 3 (ipykernel)",
   "language": "python",
   "name": "python3"
  },
  "language_info": {
   "codemirror_mode": {
    "name": "ipython",
    "version": 3
   },
   "file_extension": ".py",
   "mimetype": "text/x-python",
   "name": "python",
   "nbconvert_exporter": "python",
   "pygments_lexer": "ipython3",
   "version": "3.9.13"
  }
 },
 "nbformat": 4,
 "nbformat_minor": 5
}
