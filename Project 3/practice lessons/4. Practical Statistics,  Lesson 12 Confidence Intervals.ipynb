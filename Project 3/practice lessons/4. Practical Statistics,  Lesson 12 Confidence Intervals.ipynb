{
 "cells": [
  {
   "cell_type": "code",
   "execution_count": 5,
   "id": "0cb44d3a",
   "metadata": {},
   "outputs": [],
   "source": [
    "import pandas as pd\n",
    "import numpy as np\n",
    "import matplotlib.pyplot as plt\n",
    "%matplotlib inline\n",
    "\n",
    "np.random.seed(42)\n",
    "\n",
    "coffee_full=pd.read_csv(r\"C:\\Users\\HP\\.jupyter\\coffee_dataset.csv\")\n",
    "coffee_red=coffee_full.sample(200)"
   ]
  },
  {
   "cell_type": "markdown",
   "id": "fbded2c1",
   "metadata": {},
   "source": [
    "### Confidence Intervals - Part I"
   ]
  },
  {
   "cell_type": "markdown",
   "id": "d4f58473",
   "metadata": {},
   "source": [
    "`1.` What is the proportion of coffee drinkers in the sample?  What is the proportion of individuals that don't drink coffee?"
   ]
  },
  {
   "cell_type": "code",
   "execution_count": 6,
   "id": "8a2ebead",
   "metadata": {},
   "outputs": [
    {
     "data": {
      "text/html": [
       "<div>\n",
       "<style scoped>\n",
       "    .dataframe tbody tr th:only-of-type {\n",
       "        vertical-align: middle;\n",
       "    }\n",
       "\n",
       "    .dataframe tbody tr th {\n",
       "        vertical-align: top;\n",
       "    }\n",
       "\n",
       "    .dataframe thead th {\n",
       "        text-align: right;\n",
       "    }\n",
       "</style>\n",
       "<table border=\"1\" class=\"dataframe\">\n",
       "  <thead>\n",
       "    <tr style=\"text-align: right;\">\n",
       "      <th></th>\n",
       "      <th>user_id</th>\n",
       "      <th>age</th>\n",
       "      <th>drinks_coffee</th>\n",
       "      <th>height</th>\n",
       "    </tr>\n",
       "  </thead>\n",
       "  <tbody>\n",
       "    <tr>\n",
       "      <th>2402</th>\n",
       "      <td>2874</td>\n",
       "      <td>&lt;21</td>\n",
       "      <td>True</td>\n",
       "      <td>64.357154</td>\n",
       "    </tr>\n",
       "    <tr>\n",
       "      <th>2864</th>\n",
       "      <td>3670</td>\n",
       "      <td>&gt;=21</td>\n",
       "      <td>True</td>\n",
       "      <td>66.859636</td>\n",
       "    </tr>\n",
       "    <tr>\n",
       "      <th>2167</th>\n",
       "      <td>7441</td>\n",
       "      <td>&lt;21</td>\n",
       "      <td>False</td>\n",
       "      <td>66.659561</td>\n",
       "    </tr>\n",
       "    <tr>\n",
       "      <th>507</th>\n",
       "      <td>2781</td>\n",
       "      <td>&gt;=21</td>\n",
       "      <td>True</td>\n",
       "      <td>70.166241</td>\n",
       "    </tr>\n",
       "    <tr>\n",
       "      <th>1817</th>\n",
       "      <td>2875</td>\n",
       "      <td>&gt;=21</td>\n",
       "      <td>True</td>\n",
       "      <td>71.369120</td>\n",
       "    </tr>\n",
       "    <tr>\n",
       "      <th>...</th>\n",
       "      <td>...</td>\n",
       "      <td>...</td>\n",
       "      <td>...</td>\n",
       "      <td>...</td>\n",
       "    </tr>\n",
       "    <tr>\n",
       "      <th>1187</th>\n",
       "      <td>6237</td>\n",
       "      <td>&lt;21</td>\n",
       "      <td>False</td>\n",
       "      <td>62.493744</td>\n",
       "    </tr>\n",
       "    <tr>\n",
       "      <th>463</th>\n",
       "      <td>1857</td>\n",
       "      <td>&lt;21</td>\n",
       "      <td>False</td>\n",
       "      <td>66.476106</td>\n",
       "    </tr>\n",
       "    <tr>\n",
       "      <th>1195</th>\n",
       "      <td>6397</td>\n",
       "      <td>&lt;21</td>\n",
       "      <td>False</td>\n",
       "      <td>64.555794</td>\n",
       "    </tr>\n",
       "    <tr>\n",
       "      <th>1080</th>\n",
       "      <td>4065</td>\n",
       "      <td>&lt;21</td>\n",
       "      <td>False</td>\n",
       "      <td>66.842149</td>\n",
       "    </tr>\n",
       "    <tr>\n",
       "      <th>1422</th>\n",
       "      <td>3971</td>\n",
       "      <td>&lt;21</td>\n",
       "      <td>False</td>\n",
       "      <td>61.891849</td>\n",
       "    </tr>\n",
       "  </tbody>\n",
       "</table>\n",
       "<p>200 rows × 4 columns</p>\n",
       "</div>"
      ],
      "text/plain": [
       "      user_id   age  drinks_coffee     height\n",
       "2402     2874   <21           True  64.357154\n",
       "2864     3670  >=21           True  66.859636\n",
       "2167     7441   <21          False  66.659561\n",
       "507      2781  >=21           True  70.166241\n",
       "1817     2875  >=21           True  71.369120\n",
       "...       ...   ...            ...        ...\n",
       "1187     6237   <21          False  62.493744\n",
       "463      1857   <21          False  66.476106\n",
       "1195     6397   <21          False  64.555794\n",
       "1080     4065   <21          False  66.842149\n",
       "1422     3971   <21          False  61.891849\n",
       "\n",
       "[200 rows x 4 columns]"
      ]
     },
     "execution_count": 6,
     "metadata": {},
     "output_type": "execute_result"
    }
   ],
   "source": [
    "coffee_red"
   ]
  },
  {
   "cell_type": "code",
   "execution_count": 7,
   "id": "30d537fb",
   "metadata": {},
   "outputs": [
    {
     "data": {
      "text/plain": [
       "0.595"
      ]
     },
     "execution_count": 7,
     "metadata": {},
     "output_type": "execute_result"
    }
   ],
   "source": [
    "coffee_red.drinks_coffee.mean()"
   ]
  },
  {
   "cell_type": "code",
   "execution_count": 8,
   "id": "2048f5d6",
   "metadata": {},
   "outputs": [
    {
     "data": {
      "text/plain": [
       "0.405"
      ]
     },
     "execution_count": 8,
     "metadata": {},
     "output_type": "execute_result"
    }
   ],
   "source": [
    "1-coffee_red.drinks_coffee.mean()"
   ]
  },
  {
   "cell_type": "markdown",
   "id": "a4ee0cc0",
   "metadata": {},
   "source": [
    "`2.` Of the individuals who drink coffee, what is the average height? Of the individuals who do not drink coffee, what is the average height?"
   ]
  },
  {
   "cell_type": "code",
   "execution_count": 9,
   "id": "ae79d64a",
   "metadata": {},
   "outputs": [
    {
     "data": {
      "text/plain": [
       "66.78492279927877"
      ]
     },
     "execution_count": 9,
     "metadata": {},
     "output_type": "execute_result"
    }
   ],
   "source": [
    "coffee_red[coffee_red['drinks_coffee'] == False]['height'].mean()"
   ]
  },
  {
   "cell_type": "code",
   "execution_count": 10,
   "id": "a84c6fab",
   "metadata": {},
   "outputs": [
    {
     "data": {
      "text/plain": [
       "68.11962990858618"
      ]
     },
     "execution_count": 10,
     "metadata": {},
     "output_type": "execute_result"
    }
   ],
   "source": [
    "coffee_red[coffee_red['drinks_coffee'] == True]['height'].mean()"
   ]
  },
  {
   "cell_type": "markdown",
   "id": "451d42e7",
   "metadata": {},
   "source": [
    "`3.` Simulate 200 \"new\" individuals from your original sample of 200.  What are the proportion of coffee drinkers in your bootstrap sample?  How about individuals that don't drink coffee?"
   ]
  },
  {
   "cell_type": "code",
   "execution_count": 11,
   "id": "f87f2de3",
   "metadata": {},
   "outputs": [],
   "source": [
    "bootstrap=coffee_red.sample(200,replace=True)"
   ]
  },
  {
   "cell_type": "code",
   "execution_count": 12,
   "id": "12e08585",
   "metadata": {},
   "outputs": [
    {
     "data": {
      "text/plain": [
       "0.605"
      ]
     },
     "execution_count": 12,
     "metadata": {},
     "output_type": "execute_result"
    }
   ],
   "source": [
    "bootstrap.drinks_coffee.mean()"
   ]
  },
  {
   "cell_type": "code",
   "execution_count": 13,
   "id": "9382555a",
   "metadata": {},
   "outputs": [
    {
     "data": {
      "text/plain": [
       "0.395"
      ]
     },
     "execution_count": 13,
     "metadata": {},
     "output_type": "execute_result"
    }
   ],
   "source": [
    "1-bootstrap.drinks_coffee.mean()"
   ]
  },
  {
   "cell_type": "markdown",
   "id": "788aa0f1",
   "metadata": {},
   "source": [
    "`4.` Now simulate your bootstrap sample 10,000 times and take the mean height of the non-coffee drinkers in each sample. Each bootstrap sample should be from the very first sample of 200 data points. Plot the distribution, and pull the values necessary for a 95% confidence interval. What do you notice about the sampling distribution of the mean in this example?"
   ]
  },
  {
   "cell_type": "code",
   "execution_count": 14,
   "id": "5bee3b5b",
   "metadata": {},
   "outputs": [
    {
     "data": {
      "image/png": "[encoded data removed]",
      "text/plain": [
       "<Figure size 640x480 with 1 Axes>"
      ]
     },
     "metadata": {},
     "output_type": "display_data"
    }
   ],
   "source": [
    "boot_mean=[]\n",
    "for _ in range(10000):\n",
    "    bootstrap=coffee_red.sample(200,replace=True)\n",
    "    boot_mean_no=bootstrap[bootstrap['drinks_coffee'] == False]['height'].mean()\n",
    "    boot_mean.append(boot_mean_no)\n",
    "plt.hist(boot_mean);"
   ]
  },
  {
   "cell_type": "code",
   "execution_count": 15,
   "id": "9c3ff7a3",
   "metadata": {},
   "outputs": [
    {
     "data": {
      "text/plain": [
       "(65.99291328157521, 67.58402738281573)"
      ]
     },
     "execution_count": 15,
     "metadata": {},
     "output_type": "execute_result"
    }
   ],
   "source": [
    "np.percentile(boot_mean,2.5),np.percentile(boot_mean,97.5)"
   ]
  },
  {
   "cell_type": "markdown",
   "id": "4fb4d67b",
   "metadata": {},
   "source": [
    "`5.`  Did your interval capture the actual average height of coffee drinkers in the population?  Look at the average in the population and the two bounds provided by your 95% confidence interval, and then answer the final quiz question below."
   ]
  },
  {
   "cell_type": "code",
   "execution_count": 16,
   "id": "6d72cad0",
   "metadata": {},
   "outputs": [
    {
     "data": {
      "text/plain": [
       "66.44340776214703"
      ]
     },
     "execution_count": 16,
     "metadata": {},
     "output_type": "execute_result"
    }
   ],
   "source": [
    "coffee_full[coffee_full['drinks_coffee']==False]['height'].mean()"
   ]
  },
  {
   "cell_type": "code",
   "execution_count": 17,
   "id": "edecf6df",
   "metadata": {},
   "outputs": [
    {
     "data": {
      "text/plain": [
       "0       64.538179\n",
       "2       71.319854\n",
       "5       63.491780\n",
       "7       75.228046\n",
       "8       66.353231\n",
       "          ...    \n",
       "2966    68.635009\n",
       "2967    73.105804\n",
       "2968    69.403964\n",
       "2972    60.095933\n",
       "2973    63.765869\n",
       "Name: height, Length: 1220, dtype: float64"
      ]
     },
     "execution_count": 17,
     "metadata": {},
     "output_type": "execute_result"
    }
   ],
   "source": [
    "coffee_full[coffee_full['drinks_coffee']==False]['height']"
   ]
  },
  {
   "cell_type": "markdown",
   "id": "a7b3ba92",
   "metadata": {},
   "source": [
    "### Confidence Interval - Difference In Means\n"
   ]
  },
  {
   "cell_type": "markdown",
   "id": "0d64983d",
   "metadata": {},
   "source": [
    "`1.` For 10,000 iterations, bootstrap sample your sample data, compute the difference in the average heights for coffee and non-coffee drinkers.  Build a 99% confidence interval using your sampling distribution.  Use your interval to start answering the first quiz question below."
   ]
  },
  {
   "cell_type": "code",
   "execution_count": 18,
   "id": "3e8555c4",
   "metadata": {},
   "outputs": [
    {
     "data": {
      "text/plain": [
       "(0.0902771292964006, 2.4040553119273835)"
      ]
     },
     "execution_count": 18,
     "metadata": {},
     "output_type": "execute_result"
    }
   ],
   "source": [
    "diff=[]\n",
    "for _ in range(10000):\n",
    "    bootstrap=coffee_red.sample(200,replace=True)\n",
    "    d_co=bootstrap[bootstrap['drinks_coffee'] == True]['height'].mean()\n",
    "    d_nco=bootstrap[bootstrap['drinks_coffee'] == False]['height'].mean()\n",
    "    diff.append(d_co-d_nco)\n",
    "np.percentile(diff,.5),np.percentile(diff,99)"
   ]
  },
  {
   "cell_type": "markdown",
   "id": "ccea2bf0",
   "metadata": {},
   "source": [
    "`2.` For 10,000 iterations, bootstrap sample your sample data, compute the difference in the average heights for those older than 21 and those younger than 21.  Build a 99% confidence interval using your sampling distribution.  Use your interval to finish answering the first quiz question below.  "
   ]
  },
  {
   "cell_type": "code",
   "execution_count": 19,
   "id": "50462e2b",
   "metadata": {},
   "outputs": [
    {
     "data": {
      "text/plain": [
       "(3.366711378170795, 5.03776432889698)"
      ]
     },
     "execution_count": 19,
     "metadata": {},
     "output_type": "execute_result"
    }
   ],
   "source": [
    "diff_age=[]\n",
    "for _ in range(10000):\n",
    "    bootstrap=coffee_red.sample(200,replace=True)\n",
    "    u21=bootstrap[bootstrap['age'] == '<21']['height'].mean()\n",
    "    o21=bootstrap[bootstrap['age'] != '<21']['height'].mean()\n",
    "    diff_age.append(o21-u21)\n",
    "np.percentile(diff_age,.5),np.percentile(diff_age,99)"
   ]
  },
  {
   "cell_type": "markdown",
   "id": "209fadbc",
   "metadata": {},
   "source": [
    "`3.` For 10,000 iterations bootstrap your sample data, compute the difference in the average height for coffee drinkers and the average height non-coffee drinkers for individuals under 21 years old.  Using your sampling distribution, build a 95% confidence interval.  Use your interval to start answering question 2 below."
   ]
  },
  {
   "cell_type": "code",
   "execution_count": 20,
   "id": "584d0bf1",
   "metadata": {},
   "outputs": [
    {
     "data": {
      "text/plain": [
       "(1.0809572510875, 2.6258697660461725)"
      ]
     },
     "execution_count": 20,
     "metadata": {},
     "output_type": "execute_result"
    }
   ],
   "source": [
    "diff_age_21=[]\n",
    "for _ in range(10000):\n",
    "    bootstrap=coffee_red.sample(200,replace=True)\n",
    "    u21c=bootstrap.query(\"age == '<21' and drinks_coffee == True\")['height'].mean()\n",
    "    u21nc=bootstrap.query(\"age == '<21' and drinks_coffee == False\")['height'].mean()\n",
    "    diff_age_21.append(u21nc-u21c)\n",
    "np.percentile(diff_age_21,2.5),np.percentile(diff_age_21,97.5)"
   ]
  },
  {
   "cell_type": "markdown",
   "id": "fa5246ad",
   "metadata": {},
   "source": [
    "`4.` For 10,000 iterations bootstrap your sample data, compute the difference in the average height for coffee drinkers and the average height non-coffee drinkers for individuals under 21 years old.  Using your sampling distribution, build a 95% confidence interval. Use your interval to finish answering the second quiz question below. As well as the following questions."
   ]
  },
  {
   "cell_type": "code",
   "execution_count": 21,
   "id": "5e57a06a",
   "metadata": {},
   "outputs": [
    {
     "data": {
      "text/plain": [
       "(2.2477944854215366, 2.2477944854215366)"
      ]
     },
     "execution_count": 21,
     "metadata": {},
     "output_type": "execute_result"
    }
   ],
   "source": [
    "diff_age_o21=[]\n",
    "for _ in range(10000):\n",
    "    bootstrap=coffee_red.sample(200,replace=True)\n",
    "    o21c=bootstrap.query(\"age != '<21' and drinks_coffee == True\")['height'].mean()\n",
    "    o21nc=bootstrap.query(\"age != '<21' and drinks_coffee == False\")['height'].mean()\n",
    "    diff_age_o21.append(u21nc-u21c)\n",
    "np.percentile(diff_age_o21,2.5),np.percentile(diff_age_o21,97.5)"
   ]
  },
  {
   "cell_type": "code",
   "execution_count": 26,
   "id": "d973eabe",
   "metadata": {},
   "outputs": [
    {
     "data": {
      "text/plain": [
       "(0.3960010615918562, 2.2734131570228913)"
      ]
     },
     "execution_count": 26,
     "metadata": {},
     "output_type": "execute_result"
    }
   ],
   "source": [
    "import numpy as np, statsmodels.stats.api as sms\n",
    "\n",
    "X1= coffee_red[coffee_red['drinks_coffee'] == True]['height']\n",
    "X2 = coffee_red[coffee_red['drinks_coffee'] == False]['height']\n",
    "\n",
    "cm = sms.CompareMeans(sms.DescrStatsW(X1), sms.DescrStatsW(X2))\n",
    "cm.tconfint_diff(usevar='unequal')"
   ]
  },
  {
   "cell_type": "code",
   "execution_count": null,
   "id": "01713f6a",
   "metadata": {},
   "outputs": [],
   "source": []
  },
  {
   "cell_type": "code",
   "execution_count": null,
   "id": "f18fe56a",
   "metadata": {},
   "outputs": [],
   "source": []
  }
 ],
 "metadata": {
  "kernelspec": {
   "display_name": "Python 3 (ipykernel)",
   "language": "python",
   "name": "python3"
  },
  "language_info": {
   "codemirror_mode": {
    "name": "ipython",
    "version": 3
   },
   "file_extension": ".py",
   "mimetype": "text/x-python",
   "name": "python",
   "nbconvert_exporter": "python",
   "pygments_lexer": "ipython3",
   "version": "3.9.13"
  }
 },
 "nbformat": 4,
 "nbformat_minor": 5
}
